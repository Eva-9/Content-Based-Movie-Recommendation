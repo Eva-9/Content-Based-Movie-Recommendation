{
 "cells": [
  {
   "cell_type": "markdown",
   "id": "81c983ca-94cc-43a5-84c2-99785e811184",
   "metadata": {},
   "source": [
    "## Dataset Information\n",
    "Content based filtering movie recommendation project. Dataset is collected from first top 250 movies on IMDB."
   ]
  },
  {
   "cell_type": "markdown",
   "id": "332dcc79-18ac-401b-b7b6-80719655acdb",
   "metadata": {},
   "source": [
    "## Import Modules"
   ]
  },
  {
   "cell_type": "code",
   "execution_count": 1,
   "id": "56618a27-0120-4c79-9758-425c64296317",
   "metadata": {},
   "outputs": [],
   "source": [
    "# Import the libraries\n",
    "import pandas as pd\n",
    "import numpy as np\n",
    "import re\n",
    "import nltk\n",
    "from sklearn.feature_extraction.text import TfidfVectorizer, CountVectorizer\n",
    "from sklearn.metrics.pairwise import cosine_similarity"
   ]
  },
  {
   "cell_type": "markdown",
   "id": "68134367-d239-42a5-993d-a8e2455248e8",
   "metadata": {},
   "source": [
    "## Loading the Dataset"
   ]
  },
  {
   "cell_type": "code",
   "execution_count": 2,
   "id": "b6ddead3-6b4c-4ba1-bbe6-1a6ec428b749",
   "metadata": {},
   "outputs": [
    {
     "data": {
      "text/html": [
       "<div>\n",
       "<style scoped>\n",
       "    .dataframe tbody tr th:only-of-type {\n",
       "        vertical-align: middle;\n",
       "    }\n",
       "\n",
       "    .dataframe tbody tr th {\n",
       "        vertical-align: top;\n",
       "    }\n",
       "\n",
       "    .dataframe thead th {\n",
       "        text-align: right;\n",
       "    }\n",
       "</style>\n",
       "<table border=\"1\" class=\"dataframe\">\n",
       "  <thead>\n",
       "    <tr style=\"text-align: right;\">\n",
       "      <th></th>\n",
       "      <th>Unnamed: 0</th>\n",
       "      <th>Title</th>\n",
       "      <th>Year</th>\n",
       "      <th>Rated</th>\n",
       "      <th>Released</th>\n",
       "      <th>Runtime</th>\n",
       "      <th>Genre</th>\n",
       "      <th>Director</th>\n",
       "      <th>Writer</th>\n",
       "      <th>Actors</th>\n",
       "      <th>...</th>\n",
       "      <th>tomatoConsensus</th>\n",
       "      <th>tomatoUserMeter</th>\n",
       "      <th>tomatoUserRating</th>\n",
       "      <th>tomatoUserReviews</th>\n",
       "      <th>tomatoURL</th>\n",
       "      <th>DVD</th>\n",
       "      <th>BoxOffice</th>\n",
       "      <th>Production</th>\n",
       "      <th>Website</th>\n",
       "      <th>Response</th>\n",
       "    </tr>\n",
       "  </thead>\n",
       "  <tbody>\n",
       "    <tr>\n",
       "      <th>0</th>\n",
       "      <td>1</td>\n",
       "      <td>The Shawshank Redemption</td>\n",
       "      <td>1994</td>\n",
       "      <td>R</td>\n",
       "      <td>14 Oct 1994</td>\n",
       "      <td>142 min</td>\n",
       "      <td>Crime, Drama</td>\n",
       "      <td>Frank Darabont</td>\n",
       "      <td>Stephen King (short story \"Rita Hayworth and S...</td>\n",
       "      <td>Tim Robbins, Morgan Freeman, Bob Gunton, Willi...</td>\n",
       "      <td>...</td>\n",
       "      <td>NaN</td>\n",
       "      <td>NaN</td>\n",
       "      <td>NaN</td>\n",
       "      <td>NaN</td>\n",
       "      <td>http://www.rottentomatoes.com/m/shawshank_rede...</td>\n",
       "      <td>27 Jan 1998</td>\n",
       "      <td>NaN</td>\n",
       "      <td>Columbia Pictures</td>\n",
       "      <td>NaN</td>\n",
       "      <td>True</td>\n",
       "    </tr>\n",
       "    <tr>\n",
       "      <th>1</th>\n",
       "      <td>2</td>\n",
       "      <td>The Godfather</td>\n",
       "      <td>1972</td>\n",
       "      <td>R</td>\n",
       "      <td>24 Mar 1972</td>\n",
       "      <td>175 min</td>\n",
       "      <td>Crime, Drama</td>\n",
       "      <td>Francis Ford Coppola</td>\n",
       "      <td>Mario Puzo (screenplay), Francis Ford Coppola ...</td>\n",
       "      <td>Marlon Brando, Al Pacino, James Caan, Richard ...</td>\n",
       "      <td>...</td>\n",
       "      <td>NaN</td>\n",
       "      <td>NaN</td>\n",
       "      <td>NaN</td>\n",
       "      <td>NaN</td>\n",
       "      <td>http://www.rottentomatoes.com/m/godfather/</td>\n",
       "      <td>09 Oct 2001</td>\n",
       "      <td>NaN</td>\n",
       "      <td>Paramount Pictures</td>\n",
       "      <td>http://www.thegodfather.com</td>\n",
       "      <td>True</td>\n",
       "    </tr>\n",
       "    <tr>\n",
       "      <th>2</th>\n",
       "      <td>3</td>\n",
       "      <td>The Godfather: Part II</td>\n",
       "      <td>1974</td>\n",
       "      <td>R</td>\n",
       "      <td>20 Dec 1974</td>\n",
       "      <td>202 min</td>\n",
       "      <td>Crime, Drama</td>\n",
       "      <td>Francis Ford Coppola</td>\n",
       "      <td>Francis Ford Coppola (screenplay), Mario Puzo ...</td>\n",
       "      <td>Al Pacino, Robert Duvall, Diane Keaton, Robert...</td>\n",
       "      <td>...</td>\n",
       "      <td>NaN</td>\n",
       "      <td>NaN</td>\n",
       "      <td>NaN</td>\n",
       "      <td>NaN</td>\n",
       "      <td>http://www.rottentomatoes.com/m/godfather_part...</td>\n",
       "      <td>24 May 2005</td>\n",
       "      <td>NaN</td>\n",
       "      <td>Paramount Pictures</td>\n",
       "      <td>http://www.thegodfather.com/</td>\n",
       "      <td>True</td>\n",
       "    </tr>\n",
       "    <tr>\n",
       "      <th>3</th>\n",
       "      <td>4</td>\n",
       "      <td>The Dark Knight</td>\n",
       "      <td>2008</td>\n",
       "      <td>PG-13</td>\n",
       "      <td>18 Jul 2008</td>\n",
       "      <td>152 min</td>\n",
       "      <td>Action, Crime, Drama</td>\n",
       "      <td>Christopher Nolan</td>\n",
       "      <td>Jonathan Nolan (screenplay), Christopher Nolan...</td>\n",
       "      <td>Christian Bale, Heath Ledger, Aaron Eckhart, M...</td>\n",
       "      <td>...</td>\n",
       "      <td>NaN</td>\n",
       "      <td>NaN</td>\n",
       "      <td>NaN</td>\n",
       "      <td>NaN</td>\n",
       "      <td>http://www.rottentomatoes.com/m/the_dark_knight/</td>\n",
       "      <td>09 Dec 2008</td>\n",
       "      <td>$533,316,061</td>\n",
       "      <td>Warner Bros. Pictures/Legendary</td>\n",
       "      <td>http://thedarkknight.warnerbros.com/</td>\n",
       "      <td>True</td>\n",
       "    </tr>\n",
       "    <tr>\n",
       "      <th>4</th>\n",
       "      <td>5</td>\n",
       "      <td>12 Angry Men</td>\n",
       "      <td>1957</td>\n",
       "      <td>APPROVED</td>\n",
       "      <td>01 Apr 1957</td>\n",
       "      <td>96 min</td>\n",
       "      <td>Crime, Drama</td>\n",
       "      <td>Sidney Lumet</td>\n",
       "      <td>Reginald Rose (story), Reginald Rose (screenplay)</td>\n",
       "      <td>Martin Balsam, John Fiedler, Lee J. Cobb, E.G....</td>\n",
       "      <td>...</td>\n",
       "      <td>NaN</td>\n",
       "      <td>NaN</td>\n",
       "      <td>NaN</td>\n",
       "      <td>NaN</td>\n",
       "      <td>http://www.rottentomatoes.com/m/1000013-12_ang...</td>\n",
       "      <td>06 Mar 2001</td>\n",
       "      <td>NaN</td>\n",
       "      <td>Criterion Collection</td>\n",
       "      <td>http://www.criterion.com/films/27871-12-angry-men</td>\n",
       "      <td>True</td>\n",
       "    </tr>\n",
       "  </tbody>\n",
       "</table>\n",
       "<p>5 rows × 38 columns</p>\n",
       "</div>"
      ],
      "text/plain": [
       "   Unnamed: 0                     Title  Year     Rated     Released  Runtime  \\\n",
       "0           1  The Shawshank Redemption  1994         R  14 Oct 1994  142 min   \n",
       "1           2             The Godfather  1972         R  24 Mar 1972  175 min   \n",
       "2           3    The Godfather: Part II  1974         R  20 Dec 1974  202 min   \n",
       "3           4           The Dark Knight  2008     PG-13  18 Jul 2008  152 min   \n",
       "4           5              12 Angry Men  1957  APPROVED  01 Apr 1957   96 min   \n",
       "\n",
       "                  Genre              Director  \\\n",
       "0          Crime, Drama        Frank Darabont   \n",
       "1          Crime, Drama  Francis Ford Coppola   \n",
       "2          Crime, Drama  Francis Ford Coppola   \n",
       "3  Action, Crime, Drama     Christopher Nolan   \n",
       "4          Crime, Drama          Sidney Lumet   \n",
       "\n",
       "                                              Writer  \\\n",
       "0  Stephen King (short story \"Rita Hayworth and S...   \n",
       "1  Mario Puzo (screenplay), Francis Ford Coppola ...   \n",
       "2  Francis Ford Coppola (screenplay), Mario Puzo ...   \n",
       "3  Jonathan Nolan (screenplay), Christopher Nolan...   \n",
       "4  Reginald Rose (story), Reginald Rose (screenplay)   \n",
       "\n",
       "                                              Actors  ... tomatoConsensus  \\\n",
       "0  Tim Robbins, Morgan Freeman, Bob Gunton, Willi...  ...             NaN   \n",
       "1  Marlon Brando, Al Pacino, James Caan, Richard ...  ...             NaN   \n",
       "2  Al Pacino, Robert Duvall, Diane Keaton, Robert...  ...             NaN   \n",
       "3  Christian Bale, Heath Ledger, Aaron Eckhart, M...  ...             NaN   \n",
       "4  Martin Balsam, John Fiedler, Lee J. Cobb, E.G....  ...             NaN   \n",
       "\n",
       "  tomatoUserMeter tomatoUserRating tomatoUserReviews  \\\n",
       "0             NaN              NaN               NaN   \n",
       "1             NaN              NaN               NaN   \n",
       "2             NaN              NaN               NaN   \n",
       "3             NaN              NaN               NaN   \n",
       "4             NaN              NaN               NaN   \n",
       "\n",
       "                                           tomatoURL          DVD  \\\n",
       "0  http://www.rottentomatoes.com/m/shawshank_rede...  27 Jan 1998   \n",
       "1         http://www.rottentomatoes.com/m/godfather/  09 Oct 2001   \n",
       "2  http://www.rottentomatoes.com/m/godfather_part...  24 May 2005   \n",
       "3   http://www.rottentomatoes.com/m/the_dark_knight/  09 Dec 2008   \n",
       "4  http://www.rottentomatoes.com/m/1000013-12_ang...  06 Mar 2001   \n",
       "\n",
       "      BoxOffice                       Production  \\\n",
       "0           NaN                Columbia Pictures   \n",
       "1           NaN               Paramount Pictures   \n",
       "2           NaN               Paramount Pictures   \n",
       "3  $533,316,061  Warner Bros. Pictures/Legendary   \n",
       "4           NaN             Criterion Collection   \n",
       "\n",
       "                                             Website Response  \n",
       "0                                                NaN     True  \n",
       "1                        http://www.thegodfather.com     True  \n",
       "2                       http://www.thegodfather.com/     True  \n",
       "3               http://thedarkknight.warnerbros.com/     True  \n",
       "4  http://www.criterion.com/films/27871-12-angry-men     True  \n",
       "\n",
       "[5 rows x 38 columns]"
      ]
     },
     "execution_count": 2,
     "metadata": {},
     "output_type": "execute_result"
    }
   ],
   "source": [
    "# Specify the file path\n",
    "adress = r'IMDB-Top250movies2.csv'\n",
    "\n",
    "# Read the file using pandas\n",
    "df = pd.read_csv(adress)\n",
    "\n",
    "# Print first five rows\n",
    "df.head()"
   ]
  },
  {
   "cell_type": "code",
   "execution_count": 3,
   "id": "25741a13-7163-49c1-8acb-8662da5cd56a",
   "metadata": {},
   "outputs": [
    {
     "name": "stdout",
     "output_type": "stream",
     "text": [
      "<class 'pandas.core.frame.DataFrame'>\n",
      "RangeIndex: 250 entries, 0 to 249\n",
      "Data columns (total 38 columns):\n",
      " #   Column             Non-Null Count  Dtype  \n",
      "---  ------             --------------  -----  \n",
      " 0   Unnamed: 0         250 non-null    int64  \n",
      " 1   Title              250 non-null    object \n",
      " 2   Year               250 non-null    int64  \n",
      " 3   Rated              246 non-null    object \n",
      " 4   Released           247 non-null    object \n",
      " 5   Runtime            250 non-null    object \n",
      " 6   Genre              250 non-null    object \n",
      " 7   Director           250 non-null    object \n",
      " 8   Writer             250 non-null    object \n",
      " 9   Actors             250 non-null    object \n",
      " 10  Plot               250 non-null    object \n",
      " 11  Language           249 non-null    object \n",
      " 12  Country            250 non-null    object \n",
      " 13  Awards             248 non-null    object \n",
      " 14  Poster             250 non-null    object \n",
      " 15  Ratings.Source     250 non-null    object \n",
      " 16  Ratings.Value      250 non-null    object \n",
      " 17  Metascore          173 non-null    float64\n",
      " 18  imdbRating         250 non-null    float64\n",
      " 19  imdbVotes          250 non-null    object \n",
      " 20  imdbID             250 non-null    object \n",
      " 21  Type               250 non-null    object \n",
      " 22  tomatoMeter        0 non-null      float64\n",
      " 23  tomatoImage        0 non-null      float64\n",
      " 24  tomatoRating       0 non-null      float64\n",
      " 25  tomatoReviews      0 non-null      float64\n",
      " 26  tomatoFresh        0 non-null      float64\n",
      " 27  tomatoRotten       0 non-null      float64\n",
      " 28  tomatoConsensus    0 non-null      float64\n",
      " 29  tomatoUserMeter    0 non-null      float64\n",
      " 30  tomatoUserRating   0 non-null      float64\n",
      " 31  tomatoUserReviews  0 non-null      float64\n",
      " 32  tomatoURL          249 non-null    object \n",
      " 33  DVD                241 non-null    object \n",
      " 34  BoxOffice          82 non-null     object \n",
      " 35  Production         246 non-null    object \n",
      " 36  Website            131 non-null    object \n",
      " 37  Response           250 non-null    bool   \n",
      "dtypes: bool(1), float64(12), int64(2), object(23)\n",
      "memory usage: 72.6+ KB\n"
     ]
    }
   ],
   "source": [
    "df.info()"
   ]
  },
  {
   "cell_type": "markdown",
   "id": "fca1c8a0-50c9-4ad7-a58b-d2c7ff1407ef",
   "metadata": {},
   "source": [
    "## Data Preprocessing"
   ]
  },
  {
   "cell_type": "code",
   "execution_count": 4,
   "id": "f0e2d709-a4a1-403a-abd1-2e4a88822be7",
   "metadata": {},
   "outputs": [
    {
     "data": {
      "text/plain": [
       "0      two imprisoned men bond over a number of years...\n",
       "1      the aging patriarch of an organized crime dyna...\n",
       "2      the early life and career of vito corleone in ...\n",
       "3      when the menace known as the joker emerges fro...\n",
       "4      a jury holdout attempts to prevent a miscarria...\n",
       "                             ...                        \n",
       "245    blacksmith will turner teams up with eccentric...\n",
       "246    a former child star torments her paraplegic si...\n",
       "247    travis henderson an aimless drifter who has be...\n",
       "248    desperate measures are taken by a man who trie...\n",
       "249    a stranger in the city asks questions no one h...\n",
       "Name: clean_plot, Length: 250, dtype: object"
      ]
     },
     "execution_count": 4,
     "metadata": {},
     "output_type": "execute_result"
    }
   ],
   "source": [
    "# convert to lower case\n",
    "df['clean_plot'] = df['Plot'].str.lower()\n",
    "\n",
    "# replace any charachters other than alphabet with a space\n",
    "df['clean_plot'] = df['clean_plot'].apply(lambda x: re.sub('[^a-zA-Z]', ' ', x))\n",
    "\n",
    "# replace two or more than two spaces with one space\n",
    "df['clean_plot'] = df['clean_plot'].apply(lambda x: re.sub('\\s+', ' ', x))\n",
    "\n",
    "df['clean_plot']"
   ]
  },
  {
   "cell_type": "code",
   "execution_count": 5,
   "id": "77447ce6-e796-4e9c-a50c-07673a5ef848",
   "metadata": {},
   "outputs": [
    {
     "name": "stderr",
     "output_type": "stream",
     "text": [
      "[nltk_data] Downloading package punkt to\n",
      "[nltk_data]     C:\\Users\\A\\AppData\\Roaming\\nltk_data...\n",
      "[nltk_data]   Package punkt is already up-to-date!\n"
     ]
    },
    {
     "data": {
      "text/plain": [
       "True"
      ]
     },
     "execution_count": 5,
     "metadata": {},
     "output_type": "execute_result"
    }
   ],
   "source": [
    "nltk.download('punkt')"
   ]
  },
  {
   "cell_type": "code",
   "execution_count": 6,
   "id": "76c73ed9-b263-436d-bdbc-237a0fdbde03",
   "metadata": {},
   "outputs": [
    {
     "data": {
      "text/plain": [
       "0      [two, imprisoned, men, bond, over, a, number, ...\n",
       "1      [the, aging, patriarch, of, an, organized, cri...\n",
       "2      [the, early, life, and, career, of, vito, corl...\n",
       "3      [when, the, menace, known, as, the, joker, eme...\n",
       "4      [a, jury, holdout, attempts, to, prevent, a, m...\n",
       "                             ...                        \n",
       "245    [blacksmith, will, turner, teams, up, with, ec...\n",
       "246    [a, former, child, star, torments, her, parapl...\n",
       "247    [travis, henderson, an, aimless, drifter, who,...\n",
       "248    [desperate, measures, are, taken, by, a, man, ...\n",
       "249    [a, stranger, in, the, city, asks, questions, ...\n",
       "Name: clean_plot, Length: 250, dtype: object"
      ]
     },
     "execution_count": 6,
     "metadata": {},
     "output_type": "execute_result"
    }
   ],
   "source": [
    "# Tokenizing\n",
    "df['clean_plot'] = df['clean_plot'].apply(lambda x: nltk.word_tokenize(x))\n",
    "\n",
    "df['clean_plot']"
   ]
  },
  {
   "cell_type": "code",
   "execution_count": 7,
   "id": "4819d09a-4d33-4308-b5b7-47098c15490d",
   "metadata": {},
   "outputs": [],
   "source": [
    "# remove stop words\n",
    "stop_words = nltk.corpus.stopwords.words('english')\n",
    "plot = []\n",
    "for sentence in df['clean_plot']:\n",
    "    temp = []\n",
    "    for word in sentence:\n",
    "        if word not in stop_words or len(word) > 3:\n",
    "            temp.append(word)\n",
    "    plot.append(temp)"
   ]
  },
  {
   "cell_type": "code",
   "execution_count": 8,
   "id": "f13137d2-6aa2-4962-8c4a-0bd70e6d27ed",
   "metadata": {},
   "outputs": [],
   "source": [
    "df['clean_plot'] = plot"
   ]
  },
  {
   "cell_type": "code",
   "execution_count": 9,
   "id": "99b42d48-c450-4b0a-ae07-6ad3f6c8f392",
   "metadata": {},
   "outputs": [
    {
     "data": {
      "text/plain": [
       "0      [two, imprisoned, men, bond, over, number, yea...\n",
       "1      [aging, patriarch, organized, crime, dynasty, ...\n",
       "2      [early, life, career, vito, corleone, new, yor...\n",
       "3      [when, menace, known, joker, emerges, from, my...\n",
       "4      [jury, holdout, attempts, prevent, miscarriage...\n",
       "                             ...                        \n",
       "245    [blacksmith, will, turner, teams, with, eccent...\n",
       "246    [former, child, star, torments, paraplegic, si...\n",
       "247    [travis, henderson, aimless, drifter, been, mi...\n",
       "248    [desperate, measures, taken, man, tries, save,...\n",
       "249    [stranger, city, asks, questions, one, asked, ...\n",
       "Name: clean_plot, Length: 250, dtype: object"
      ]
     },
     "execution_count": 9,
     "metadata": {},
     "output_type": "execute_result"
    }
   ],
   "source": [
    "df['clean_plot']"
   ]
  },
  {
   "cell_type": "code",
   "execution_count": 10,
   "id": "3d98bf4b-c43e-4a00-a31a-1b528f658345",
   "metadata": {},
   "outputs": [],
   "source": [
    "# split each string in the 'Genre' column by the ',' character.\n",
    "df['Genre'] = df['Genre'].apply(lambda x: x.split(','))\n",
    "\n",
    "# split top 4 string in the 'Actors' column by the ',' character.\n",
    "df['Actors'] = df['Actors'].apply(lambda x: x.split(',')[:4])\n",
    "\n",
    "# split each string in the 'Director' column by the ',' character.\n",
    "df['Director'] = df['Director'].apply(lambda x: x.split(',')[:4])"
   ]
  },
  {
   "cell_type": "code",
   "execution_count": 11,
   "id": "67566652-2f9e-4f9e-a0a3-afc9fa98262e",
   "metadata": {},
   "outputs": [],
   "source": [
    "# funtion to convert to lower case and replacing the space\n",
    "def clean(sentence):\n",
    "    temp = []\n",
    "    for word in sentence:\n",
    "        temp.append(word.lower().replace(' ',''))\n",
    "    return temp"
   ]
  },
  {
   "cell_type": "code",
   "execution_count": 12,
   "id": "63842259-4d85-4151-a0fd-e8429c3e83f0",
   "metadata": {},
   "outputs": [],
   "source": [
    "# convert to lower case and replacing the space in each columns\n",
    "df['Genre'] = [clean(x) for x in df['Genre']]\n",
    "df['Actors'] = [clean(x) for x in df['Actors']]\n",
    "df['Director'] = [clean(x) for x in df['Director']]"
   ]
  },
  {
   "cell_type": "code",
   "execution_count": 13,
   "id": "351609bb-4272-414d-9f21-0b51ae7e085a",
   "metadata": {},
   "outputs": [],
   "source": [
    "# combining all the columns data\n",
    "columns = ['clean_plot', 'Genre', 'Actors', 'Director']\n",
    "l = []\n",
    "for i in range(len(df)):\n",
    "    words = ''\n",
    "    for col in columns:\n",
    "        words += ' '.join(df[col][i]) + ' '\n",
    "    l.append(words)"
   ]
  },
  {
   "cell_type": "code",
   "execution_count": 14,
   "id": "7e97b1e3-2770-4a55-9b1e-1b89ee517ae9",
   "metadata": {},
   "outputs": [],
   "source": [
    "df['clean_input'] = l\n",
    "df = df[['Title', 'clean_input']]"
   ]
  },
  {
   "cell_type": "code",
   "execution_count": 15,
   "id": "b1844cba-cda5-484b-b329-2ff438ec7aff",
   "metadata": {},
   "outputs": [
    {
     "data": {
      "text/html": [
       "<div>\n",
       "<style scoped>\n",
       "    .dataframe tbody tr th:only-of-type {\n",
       "        vertical-align: middle;\n",
       "    }\n",
       "\n",
       "    .dataframe tbody tr th {\n",
       "        vertical-align: top;\n",
       "    }\n",
       "\n",
       "    .dataframe thead th {\n",
       "        text-align: right;\n",
       "    }\n",
       "</style>\n",
       "<table border=\"1\" class=\"dataframe\">\n",
       "  <thead>\n",
       "    <tr style=\"text-align: right;\">\n",
       "      <th></th>\n",
       "      <th>Title</th>\n",
       "      <th>clean_input</th>\n",
       "    </tr>\n",
       "  </thead>\n",
       "  <tbody>\n",
       "    <tr>\n",
       "      <th>0</th>\n",
       "      <td>The Shawshank Redemption</td>\n",
       "      <td>two imprisoned men bond over number years find...</td>\n",
       "    </tr>\n",
       "    <tr>\n",
       "      <th>1</th>\n",
       "      <td>The Godfather</td>\n",
       "      <td>aging patriarch organized crime dynasty transf...</td>\n",
       "    </tr>\n",
       "    <tr>\n",
       "      <th>2</th>\n",
       "      <td>The Godfather: Part II</td>\n",
       "      <td>early life career vito corleone new york portr...</td>\n",
       "    </tr>\n",
       "    <tr>\n",
       "      <th>3</th>\n",
       "      <td>The Dark Knight</td>\n",
       "      <td>when menace known joker emerges from mysteriou...</td>\n",
       "    </tr>\n",
       "    <tr>\n",
       "      <th>4</th>\n",
       "      <td>12 Angry Men</td>\n",
       "      <td>jury holdout attempts prevent miscarriage just...</td>\n",
       "    </tr>\n",
       "  </tbody>\n",
       "</table>\n",
       "</div>"
      ],
      "text/plain": [
       "                      Title                                        clean_input\n",
       "0  The Shawshank Redemption  two imprisoned men bond over number years find...\n",
       "1             The Godfather  aging patriarch organized crime dynasty transf...\n",
       "2    The Godfather: Part II  early life career vito corleone new york portr...\n",
       "3           The Dark Knight  when menace known joker emerges from mysteriou...\n",
       "4              12 Angry Men  jury holdout attempts prevent miscarriage just..."
      ]
     },
     "execution_count": 15,
     "metadata": {},
     "output_type": "execute_result"
    }
   ],
   "source": [
    "df.head()"
   ]
  },
  {
   "cell_type": "markdown",
   "id": "c4d2ef74-3ef7-4ef3-8ae7-4e45a8456a72",
   "metadata": {},
   "source": [
    "### Feature Extraction"
   ]
  },
  {
   "cell_type": "code",
   "execution_count": 16,
   "id": "f9683390-021c-476d-849d-460d61de3e48",
   "metadata": {},
   "outputs": [],
   "source": [
    "tfidf = TfidfVectorizer()\n",
    "features = tfidf.fit_transform(df['clean_input'])"
   ]
  },
  {
   "cell_type": "code",
   "execution_count": 17,
   "id": "dfd10875-3c4f-4a60-9940-9f53b9cdac35",
   "metadata": {},
   "outputs": [],
   "source": [
    "# create cosine similarity matirx\n",
    "cosine_sim = cosine_similarity(features, features)"
   ]
  },
  {
   "cell_type": "markdown",
   "id": "520e9729-bec2-49f7-92f1-50475a066585",
   "metadata": {},
   "source": [
    "## Movie Recommendation"
   ]
  },
  {
   "cell_type": "code",
   "execution_count": 18,
   "id": "999f7ba5-fd19-44c3-b18c-ca232c478da1",
   "metadata": {},
   "outputs": [],
   "source": [
    "index = pd.Series(df['Title'])"
   ]
  },
  {
   "cell_type": "code",
   "execution_count": 19,
   "id": "48284acc-fb13-43ce-adbf-d0c9ef20b9ce",
   "metadata": {},
   "outputs": [],
   "source": [
    "def recommend_movies(title):\n",
    "    movies = []\n",
    "    idx = index[index == title].index[0]\n",
    "    score = pd.Series(cosine_sim[idx]).sort_values(ascending = False)\n",
    "    top10 = list(score.iloc[1:11].index)\n",
    "\n",
    "    for i in top10:\n",
    "        movies.append(df['Title'][i])\n",
    "    return movies\n",
    "    "
   ]
  },
  {
   "cell_type": "code",
   "execution_count": 20,
   "id": "cac2f5bd-6a35-42e5-b026-e3c969041206",
   "metadata": {},
   "outputs": [
    {
     "data": {
      "text/plain": [
       "['The Dark Knight',\n",
       " 'Batman Begins',\n",
       " 'Inception',\n",
       " 'The Lord of the Rings: The Fellowship of the Ring',\n",
       " 'Star Wars: Episode IV - A New Hope',\n",
       " 'Drishyam',\n",
       " 'Django Unchained',\n",
       " 'Star Wars: Episode VI - Return of the Jedi',\n",
       " 'Die Hard',\n",
       " 'Mad Max: Fury Road']"
      ]
     },
     "execution_count": 20,
     "metadata": {},
     "output_type": "execute_result"
    }
   ],
   "source": [
    "recommend_movies('The Dark Knight Rises')"
   ]
  },
  {
   "cell_type": "code",
   "execution_count": 21,
   "id": "ec5960b7-6297-477b-9353-8c5d44cb2dca",
   "metadata": {},
   "outputs": [
    {
     "data": {
      "text/plain": [
       "['The Godfather: Part II',\n",
       " 'Apocalypse Now',\n",
       " 'On the Waterfront',\n",
       " 'Scarface',\n",
       " 'Casino',\n",
       " 'Wild Strawberries',\n",
       " 'Rashomon',\n",
       " 'All About Eve',\n",
       " 'Heat',\n",
       " 'The 400 Blows']"
      ]
     },
     "execution_count": 21,
     "metadata": {},
     "output_type": "execute_result"
    }
   ],
   "source": [
    "recommend_movies('The Godfather')"
   ]
  }
 ],
 "metadata": {
  "kernelspec": {
   "display_name": "Python 3 (ipykernel)",
   "language": "python",
   "name": "python3"
  },
  "language_info": {
   "codemirror_mode": {
    "name": "ipython",
    "version": 3
   },
   "file_extension": ".py",
   "mimetype": "text/x-python",
   "name": "python",
   "nbconvert_exporter": "python",
   "pygments_lexer": "ipython3",
   "version": "3.9.1"
  }
 },
 "nbformat": 4,
 "nbformat_minor": 5
}
